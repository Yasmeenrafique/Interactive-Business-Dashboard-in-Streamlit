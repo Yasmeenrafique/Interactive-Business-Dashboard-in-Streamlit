{
 "cells": [
  {
   "cell_type": "code",
   "execution_count": 1,
   "id": "2403aed6",
   "metadata": {},
   "outputs": [
    {
     "name": "stdout",
     "output_type": "stream",
     "text": [
      "<class 'pandas.core.frame.DataFrame'>\n",
      "RangeIndex: 9800 entries, 0 to 9799\n",
      "Data columns (total 18 columns):\n",
      " #   Column         Non-Null Count  Dtype  \n",
      "---  ------         --------------  -----  \n",
      " 0   Row ID         9800 non-null   int64  \n",
      " 1   Order ID       9800 non-null   object \n",
      " 2   Order Date     9800 non-null   object \n",
      " 3   Ship Date      9800 non-null   object \n",
      " 4   Ship Mode      9800 non-null   object \n",
      " 5   Customer ID    9800 non-null   object \n",
      " 6   Customer Name  9800 non-null   object \n",
      " 7   Segment        9800 non-null   object \n",
      " 8   Country        9800 non-null   object \n",
      " 9   City           9800 non-null   object \n",
      " 10  State          9800 non-null   object \n",
      " 11  Postal Code    9789 non-null   float64\n",
      " 12  Region         9800 non-null   object \n",
      " 13  Product ID     9800 non-null   object \n",
      " 14  Category       9800 non-null   object \n",
      " 15  Sub-Category   9800 non-null   object \n",
      " 16  Product Name   9800 non-null   object \n",
      " 17  Sales          9800 non-null   float64\n",
      "dtypes: float64(2), int64(1), object(15)\n",
      "memory usage: 1.3+ MB\n"
     ]
    },
    {
     "data": {
      "text/html": [
       "<div>\n",
       "<style scoped>\n",
       "    .dataframe tbody tr th:only-of-type {\n",
       "        vertical-align: middle;\n",
       "    }\n",
       "\n",
       "    .dataframe tbody tr th {\n",
       "        vertical-align: top;\n",
       "    }\n",
       "\n",
       "    .dataframe thead th {\n",
       "        text-align: right;\n",
       "    }\n",
       "</style>\n",
       "<table border=\"1\" class=\"dataframe\">\n",
       "  <thead>\n",
       "    <tr style=\"text-align: right;\">\n",
       "      <th></th>\n",
       "      <th>Row ID</th>\n",
       "      <th>Postal Code</th>\n",
       "      <th>Sales</th>\n",
       "    </tr>\n",
       "  </thead>\n",
       "  <tbody>\n",
       "    <tr>\n",
       "      <th>count</th>\n",
       "      <td>9800.000000</td>\n",
       "      <td>9789.000000</td>\n",
       "      <td>9800.000000</td>\n",
       "    </tr>\n",
       "    <tr>\n",
       "      <th>mean</th>\n",
       "      <td>4900.500000</td>\n",
       "      <td>55273.322403</td>\n",
       "      <td>230.769059</td>\n",
       "    </tr>\n",
       "    <tr>\n",
       "      <th>std</th>\n",
       "      <td>2829.160653</td>\n",
       "      <td>32041.223413</td>\n",
       "      <td>626.651875</td>\n",
       "    </tr>\n",
       "    <tr>\n",
       "      <th>min</th>\n",
       "      <td>1.000000</td>\n",
       "      <td>1040.000000</td>\n",
       "      <td>0.444000</td>\n",
       "    </tr>\n",
       "    <tr>\n",
       "      <th>25%</th>\n",
       "      <td>2450.750000</td>\n",
       "      <td>23223.000000</td>\n",
       "      <td>17.248000</td>\n",
       "    </tr>\n",
       "    <tr>\n",
       "      <th>50%</th>\n",
       "      <td>4900.500000</td>\n",
       "      <td>58103.000000</td>\n",
       "      <td>54.490000</td>\n",
       "    </tr>\n",
       "    <tr>\n",
       "      <th>75%</th>\n",
       "      <td>7350.250000</td>\n",
       "      <td>90008.000000</td>\n",
       "      <td>210.605000</td>\n",
       "    </tr>\n",
       "    <tr>\n",
       "      <th>max</th>\n",
       "      <td>9800.000000</td>\n",
       "      <td>99301.000000</td>\n",
       "      <td>22638.480000</td>\n",
       "    </tr>\n",
       "  </tbody>\n",
       "</table>\n",
       "</div>"
      ],
      "text/plain": [
       "            Row ID   Postal Code         Sales\n",
       "count  9800.000000   9789.000000   9800.000000\n",
       "mean   4900.500000  55273.322403    230.769059\n",
       "std    2829.160653  32041.223413    626.651875\n",
       "min       1.000000   1040.000000      0.444000\n",
       "25%    2450.750000  23223.000000     17.248000\n",
       "50%    4900.500000  58103.000000     54.490000\n",
       "75%    7350.250000  90008.000000    210.605000\n",
       "max    9800.000000  99301.000000  22638.480000"
      ]
     },
     "execution_count": 1,
     "metadata": {},
     "output_type": "execute_result"
    }
   ],
   "source": [
    "import pandas as pd\n",
    "\n",
    "# Load dataset\n",
    "df = pd.read_excel(\"train.xlsx\")   # or read_csv if CSV\n",
    "\n",
    "# Quick check\n",
    "df.head()\n",
    "df.info()\n",
    "df.describe()\n"
   ]
  },
  {
   "cell_type": "code",
   "execution_count": 2,
   "id": "4cf35c0c",
   "metadata": {},
   "outputs": [],
   "source": [
    "# Remove missing values\n",
    "df = df.dropna()\n",
    "\n",
    "# Ensure numeric types\n",
    "df['Sales'] = pd.to_numeric(df['Sales'], errors='coerce')\n",
    "\n",
    "# Remove duplicates\n",
    "df = df.drop_duplicates()\n"
   ]
  },
  {
   "cell_type": "code",
   "execution_count": 3,
   "id": "a298c911",
   "metadata": {},
   "outputs": [],
   "source": [
    "# Total Sales & Profit\n",
    "total_sales = df['Sales'].sum()\n",
    "\n",
    "# Top 5 Customers by Sales\n",
    "top_customers = df.groupby('Customer Name')['Sales'].sum().sort_values(ascending=False).head(5)\n",
    "\n",
    "# Segment-wise Sales\n",
    "segment_sales = df.groupby('Segment')['Sales'].sum()\n"
   ]
  },
  {
   "cell_type": "code",
   "execution_count": null,
   "id": "6501264f",
   "metadata": {},
   "outputs": [
    {
     "data": {
      "image/png": "[encoded data removed]",
      "text/plain": [
       "<Figure size 640x480 with 1 Axes>"
      ]
     },
     "metadata": {},
     "output_type": "display_data"
    }
   ],
   "source": [
    "import matplotlib.pyplot as plt\n",
    "\n",
    "# Segment Sales Bar Chart\n",
    "segment_sales.plot(kind='bar', title='Sales by Segment')\n",
    "plt.show()\n"
   ]
  }
 ],
 "metadata": {
  "kernelspec": {
   "display_name": "Python 3",
   "language": "python",
   "name": "python3"
  },
  "language_info": {
   "codemirror_mode": {
    "name": "ipython",
    "version": 3
   },
   "file_extension": ".py",
   "mimetype": "text/x-python",
   "name": "python",
   "nbconvert_exporter": "python",
   "pygments_lexer": "ipython3",
   "version": "3.13.5"
  }
 },
 "nbformat": 4,
 "nbformat_minor": 5
}
